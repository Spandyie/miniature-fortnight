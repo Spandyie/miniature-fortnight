{
 "cells": [
  {
   "cell_type": "code",
   "execution_count": 9,
   "metadata": {
    "pycharm": {
     "is_executing": false
    }
   },
   "outputs": [],
   "source": [
    "import pandas as pd\n",
    "import re\n",
    "import torch\n",
    "import torch.nn as nn\n",
    "from collections import Counter\n",
    "from IPython.core.debugger import set_trace\n",
    "import csv\n",
    "import string\n",
    "import unidecode\n",
    "import torch.nn.functional as F"
   ]
  },
  {
   "cell_type": "code",
   "execution_count": 10,
   "metadata": {
    "pycharm": {
     "is_executing": false,
     "name": "#%%\n"
    }
   },
   "outputs": [],
   "source": [
    "def removeLink(s):\n",
    "    pattern = r'http\\S+'\n",
    "    return re.sub(pattern,'', s)"
   ]
  },
  {
   "cell_type": "code",
   "execution_count": 11,
   "metadata": {
    "scrolled": false
   },
   "outputs": [],
   "source": [
    "def readFiles(file_name):\n",
    "    output_array = list()\n",
    "    with open(file_name,'r', encoding='UTF-8', newline='') as file:\n",
    "        reader=csv.reader(file)\n",
    "        for i, row in enumerate(reader):\n",
    "            if i > 0:\n",
    "                line = removeLink(row[-1][2:])\n",
    "                line = re.sub(' +',' ', line)\n",
    "                line = unidecode.unidecode(line)                \n",
    "                output_array.append(line)\n",
    "        \n",
    "    file.close()\n",
    "    \n",
    "    return output_array\n",
    "\n",
    "output_array = readFiles('trumpTweets.csv')\n",
    "#[string.printable.index(c) for c in output_array[0]]"
   ]
  },
  {
   "cell_type": "code",
   "execution_count": 14,
   "metadata": {},
   "outputs": [],
   "source": [
    "def char_to_tensor(tA):\n",
    "    #set_trace()\n",
    "    lst = [string.printable.index(c) for c in tA]\n",
    "    tensorString = torch.tensor(lst).long()\n",
    "    return tensorString\n",
    "\n",
    "def getInputOutput(textArray, index_data=0):\n",
    "    text_long = char_to_tensor(textArray[index_data])\n",
    "    input_line = text_long[:-1]\n",
    "    output_line = text_long[1:]\n",
    "    return input_line, output_line"
   ]
  },
  {
   "cell_type": "code",
   "execution_count": null,
   "metadata": {},
   "outputs": [],
   "source": [
    "RANDOM_SEED = 123\n",
    "torch.manual_seed(RANDOM_SEED)\n",
    "\n",
    "DEVICE = torch.device('cuda' if torch.cuda.is_available() else 'cpu')\n",
    "\n",
    "TEXT_PORTION_SIZE = 200\n",
    "\n",
    "NUM_ITER = 20000\n",
    "LEARNING_RATE = 0.005\n",
    "EMBEDDING_DIM = 100\n",
    "HIDDEN_DIM = 100\n",
    "NUM_HIDDEN = 1\n",
    "LEN_TRAINING_DATA = len(output_array)"
   ]
  },
  {
   "cell_type": "code",
   "execution_count": null,
   "metadata": {},
   "outputs": [],
   "source": [
    "class Network(nn.Module):\n",
    "    def __init__(self, input_size, embed_size, hidden_size, output_size, num_layers):\n",
    "        super().__init__()\n",
    "        self.num_layers = num_layers\n",
    "        self.hidden_size = hidden_size        \n",
    "        self.embed = nn.Embedding(input_size, embed_size)\n",
    "        self.gru = nn.GRU(embed_size, hidden_size,num_layers=num_layers)\n",
    "        self.dense = nn.Linear(hidden_size, output_size)\n",
    "        self.init_hidden = torch.nn.Parameter(torch.zeros(num_layers, 1, hidden_size))\n",
    "        \n",
    "    def forward(self, features, hidden):\n",
    "        embed_feature = self.embed(features.view(1,-1))\n",
    "        output, hidden = self.gru(embed_feature.view(1,1,-1), hidden)\n",
    "        output = self.dense(output.view(1,-1))\n",
    "        return output\n",
    "    \n",
    "    def init_zero_state(self):\n",
    "        init_hidden = torch.zeros(self.num_layers, 1, self.hidden_size).to(DEVICE)\n",
    "        return init_hidden"
   ]
  },
  {
   "cell_type": "code",
   "execution_count": null,
   "metadata": {},
   "outputs": [],
   "source": [
    "torch.manual_seed(RANDOM_SEED)\n",
    "model = Network(len(string.printable), EMBEDDING_DIM, HIDDEN_DIM, len(string.printable), NUM_HIDDEN)\n",
    "model = model.to(DEVICE)\n",
    "optimizer = torch.optim.Adam(model.parameters(), lr=LEARNING_RATE)\n",
    "\n"
   ]
  },
  {
   "cell_type": "code",
   "execution_count": null,
   "metadata": {},
   "outputs": [],
   "source": [
    "for iteration in range(NUM_ITER):    \n",
    "    ### FORWARD AND BACK PROP\n",
    "    hidden = model.init_zero_state()\n",
    "    optimizer.zero_grad()    \n",
    "    loss = 0.\n",
    "    inputs, targets = getInputOutput(output_array)\n",
    "    set_trace()\n",
    "    inputs, targets = inputs.to(DEVICE), targets.to(DEVICE)\n",
    "    for c in range(TEXT_PORTION_SIZE):\n",
    "        outputs, hidden = model(inputs, hidden)\n",
    "        loss += F.cross_entropy(outputs, targets[c].view(1))\n",
    "\n",
    "    loss /= TEXT_PORTION_SIZE\n",
    "    loss.backward()\n",
    "    \n",
    "    ### UPDATE MODEL PARAMETERS\n",
    "    optimizer.step()\n",
    "\n",
    "    ### LOGGING\n",
    "    with torch.no_grad():\n",
    "        if iteration % 1000 == 0:  \n",
    "            print(f'Iteration {iteration} | Loss {loss.item():.2f}\\n\\n')\n",
    "            print(evaluate(model, 'Th', 200), '\\n')\n",
    "            print(50*'=')"
   ]
  },
  {
   "cell_type": "code",
   "execution_count": null,
   "metadata": {},
   "outputs": [],
   "source": [
    "len(string.printable)"
   ]
  },
  {
   "cell_type": "code",
   "execution_count": null,
   "metadata": {},
   "outputs": [],
   "source": [
    "string.printable"
   ]
  },
  {
   "cell_type": "code",
   "execution_count": 15,
   "metadata": {},
   "outputs": [],
   "source": [
    "inputs = [torch.randn(1, 3) for _ in range(5)] "
   ]
  },
  {
   "cell_type": "code",
   "execution_count": 16,
   "metadata": {},
   "outputs": [
    {
     "data": {
      "text/plain": [
       "[tensor([[ 1.4783, -0.1375, -1.4389]]),\n",
       " tensor([[ 0.0603, -0.4699, -0.2681]]),\n",
       " tensor([[ 1.2553, -2.5328,  0.4212]]),\n",
       " tensor([[-0.9199,  0.5817, -0.8611]]),\n",
       " tensor([[-0.7232,  0.2927,  0.7804]])]"
      ]
     },
     "execution_count": 16,
     "metadata": {},
     "output_type": "execute_result"
    }
   ],
   "source": [
    "inputs"
   ]
  },
  {
   "cell_type": "code",
   "execution_count": 23,
   "metadata": {},
   "outputs": [
    {
     "data": {
      "text/plain": [
       "torch.Size([1, 3])"
      ]
     },
     "execution_count": 23,
     "metadata": {},
     "output_type": "execute_result"
    }
   ],
   "source": [
    "torch.randn(1,3).size()\n"
   ]
  },
  {
   "cell_type": "code",
   "execution_count": 24,
   "metadata": {},
   "outputs": [
    {
     "data": {
      "text/plain": [
       "tensor([[[ 1.4783, -0.1375, -1.4389]]])"
      ]
     },
     "execution_count": 24,
     "metadata": {},
     "output_type": "execute_result"
    }
   ],
   "source": [
    "inputs[0].view(1,1,-1)"
   ]
  },
  {
   "cell_type": "code",
   "execution_count": null,
   "metadata": {},
   "outputs": [],
   "source": []
  }
 ],
 "metadata": {
  "kernelspec": {
   "display_name": "Python 3",
   "language": "python",
   "name": "python3"
  },
  "language_info": {
   "codemirror_mode": {
    "name": "ipython",
    "version": 3
   },
   "file_extension": ".py",
   "mimetype": "text/x-python",
   "name": "python",
   "nbconvert_exporter": "python",
   "pygments_lexer": "ipython3",
   "version": "3.7.4"
  },
  "pycharm": {
   "stem_cell": {
    "cell_type": "raw",
    "metadata": {
     "collapsed": false
    },
    "source": []
   }
  }
 },
 "nbformat": 4,
 "nbformat_minor": 1
}
